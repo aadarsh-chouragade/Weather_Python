{
 "cells": [
  {
   "cell_type": "code",
   "execution_count": null,
   "metadata": {},
   "outputs": [],
   "source": [
    "import matplotlib.pyplot as plt\n",
    "x = [1,2,3,4,5,6,7,8,9,10,11,12]\n",
    "y = [27,26,26,26,26,26,26,26,26,26,27,27]\n",
    "plt.plot(x,y)\n",
    "plt.xlabel('Months', color='#1e8bc3')\n",
    "plt.ylabel('Temperature (°C)', color='#e74c3c')\n",
    "plt.title('Temperature in Singapore', color='#34495e')\n",
    "plt.show()\n"
   ]
  }
 ],
 "metadata": {
  "language_info": {
   "name": "python"
  },
  "orig_nbformat": 4
 },
 "nbformat": 4,
 "nbformat_minor": 2
}
